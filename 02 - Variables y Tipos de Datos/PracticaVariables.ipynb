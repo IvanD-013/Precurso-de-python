{
 "cells": [
  {
   "cell_type": "code",
   "execution_count": null,
   "metadata": {},
   "outputs": [],
   "source": [
    "num1=2\n",
    "print(num1)\n",
    "type(num1)"
   ]
  },
  {
   "cell_type": "code",
   "execution_count": 3,
   "metadata": {},
   "outputs": [],
   "source": [
    "import math as mt"
   ]
  },
  {
   "cell_type": "code",
   "execution_count": null,
   "metadata": {},
   "outputs": [],
   "source": [
    "num2=8.5\n",
    "type(num2)"
   ]
  },
  {
   "cell_type": "code",
   "execution_count": 5,
   "metadata": {},
   "outputs": [
    {
     "name": "stdout",
     "output_type": "stream",
     "text": [
      "3.1416\n"
     ]
    }
   ],
   "source": [
    "nombre=\"Ivan Dario\"\n",
    "numcomplex1=1+2j\n",
    "type(numcomplex1)\n",
    "pi=round(mt.pi, 4)\n",
    "print(pi)\n",
    "\n"
   ]
  },
  {
   "cell_type": "code",
   "execution_count": 6,
   "metadata": {},
   "outputs": [
    {
     "name": "stdout",
     "output_type": "stream",
     "text": [
      "True True\n"
     ]
    }
   ],
   "source": [
    "Logi1=True\n",
    "Logi2=True\n",
    "print(Logi1,Logi2)"
   ]
  },
  {
   "cell_type": "code",
   "execution_count": 13,
   "metadata": {},
   "outputs": [
    {
     "name": "stdout",
     "output_type": "stream",
     "text": [
      "6.75\n",
      "False\n",
      "True\n"
     ]
    }
   ],
   "source": [
    "suma1=1+1.5\n",
    "suma2=1j+2j\n",
    "suma3=3+3j\n",
    "multi=2*3\n",
    "pote=2**8\n",
    "div=27/4\n",
    "print(div)\n",
    "entero=27//4\n",
    "resto=27%4\n",
    "divisor=entero*resto\n",
    "calculo=entero*4+resto\n",
    "letra=\"a\"+\"b\"\n",
    "dos=2\n",
    "doslet=\"2\"\n",
    "if dos==doslet:\n",
    "    resultado=True\n",
    "else:\n",
    "    resultado=False\n",
    "print(resultado)\n",
    "\n",
    "if str(dos)==doslet:\n",
    "    resultado1=True\n",
    "else:\n",
    "    resultado1=False\n",
    "print(resultado1)\n",
    "\n"
   ]
  },
  {
   "cell_type": "code",
   "execution_count": 17,
   "metadata": {},
   "outputs": [
    {
     "name": "stdout",
     "output_type": "stream",
     "text": [
      "1\n"
     ]
    }
   ],
   "source": [
    "x=3\n",
    "x-=2\n",
    "print(x)"
   ]
  },
  {
   "cell_type": "code",
   "execution_count": 18,
   "metadata": {},
   "outputs": [
    {
     "data": {
      "text/plain": [
       "4"
      ]
     },
     "execution_count": 18,
     "metadata": {},
     "output_type": "execute_result"
    }
   ],
   "source": [
    "1<<2"
   ]
  },
  {
   "cell_type": "code",
   "execution_count": 19,
   "metadata": {},
   "outputs": [
    {
     "name": "stdout",
     "output_type": "stream",
     "text": [
      "holaholahola\n"
     ]
    }
   ],
   "source": [
    "saludo=\"hola\"\n",
    "print(saludo*3)\n"
   ]
  }
 ],
 "metadata": {
  "kernelspec": {
   "display_name": "Python 3",
   "language": "python",
   "name": "python3"
  },
  "language_info": {
   "codemirror_mode": {
    "name": "ipython",
    "version": 3
   },
   "file_extension": ".py",
   "mimetype": "text/x-python",
   "name": "python",
   "nbconvert_exporter": "python",
   "pygments_lexer": "ipython3",
   "version": "3.11.2"
  },
  "orig_nbformat": 4
 },
 "nbformat": 4,
 "nbformat_minor": 2
}
